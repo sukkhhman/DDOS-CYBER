{
  "nbformat": 4,
  "nbformat_minor": 0,
  "metadata": {
    "colab": {
      "provenance": []
    },
    "kernelspec": {
      "name": "python3",
      "display_name": "Python 3"
    },
    "language_info": {
      "name": "python"
    }
  },
  "cells": [
    {
      "cell_type": "code",
      "execution_count": 4,
      "metadata": {
        "id": "0CwyCWEvTj4V"
      },
      "outputs": [],
      "source": [
        "import numpy as np\n",
        "import pandas as pd\n",
        "from sklearn.model_selection import train_test_split\n",
        "from sklearn.preprocessing import StandardScaler, LabelEncoder\n",
        "from sklearn.metrics import accuracy_score, confusion_matrix, f1_score\n",
        "from tensorflow.keras.models import Sequential\n",
        "from tensorflow.keras.layers import Dense\n",
        "from tensorflow.keras.optimizers import Adam\n",
        "from tensorflow.keras.utils import to_categorical\n",
        "\n",
        "# Load your dataset, replace 'your_dataset.csv' with the actual file path\n",
        "df = pd.read_csv('/content/dataset_sdn.csv')\n",
        "\n",
        "\n",
        "\n"
      ]
    },
    {
      "cell_type": "code",
      "source": [
        "# Assuming your dataset has features and labels, adjust accordingly\n",
        "X = df.drop('label', axis=1)\n",
        "y = df['label']\n",
        "\n",
        "label_encoder = LabelEncoder()\n",
        "y = label_encoder.fit_transform(y)\n",
        "\n",
        "# Handle categorical features (e.g., IP addresses) using one-hot encoding\n",
        "categorical_cols = ['src', 'dst','Protocol']\n",
        "X_categorical = pd.get_dummies(X[categorical_cols], drop_first=True)\n",
        "X = pd.concat([X.drop(categorical_cols, axis=1), X_categorical], axis=1)\n",
        "\n",
        "# Split the data into training and testing sets\n",
        "X_train, X_test, y_train, y_test = train_test_split(X, y, test_size=0.2, random_state=42)\n",
        "\n",
        "# Standardize the data\n",
        "scaler = StandardScaler()\n",
        "X_train = scaler.fit_transform(X_train)\n",
        "X_test = scaler.transform(X_test)\n",
        "\n",
        "# Convert labels to one-hot encoding\n",
        "y_train = to_categorical(y_train)\n",
        "y_test = to_categorical(y_test)\n",
        "\n",
        "# Build the neural network model\n",
        "model = Sequential()\n",
        "model.add(Dense(64, input_dim=X_train.shape[1], activation='relu'))\n",
        "model.add(Dense(32, activation='relu'))\n",
        "model.add(Dense(y_train.shape[1], activation='softmax'))  # Output layer neurons match the number of classes\n",
        "\n",
        "# Compile the model\n",
        "model.compile(loss='categorical_crossentropy', optimizer=Adam(), metrics=['accuracy'])\n",
        "\n",
        "# Train the model\n",
        "model.fit(X_train, y_train, epochs=10, batch_size=32, validation_split=0.2)\n",
        "\n",
        "# Evaluate the model on the test set\n",
        "y_pred = model.predict(X_test)\n",
        "y_pred_classes = np.argmax(y_pred, axis=1)\n",
        "y_test_classes = np.argmax(y_test, axis=1)\n",
        "\n",
        "# Calculate accuracy, confusion matrix, and F1 score\n",
        "accuracy = accuracy_score(y_test_classes, y_pred_classes)\n",
        "conf_matrix = confusion_matrix(y_test_classes, y_pred_classes)\n",
        "f1 = f1_score(y_test_classes, y_pred_classes, average='weighted')  # 'micro', 'macro', or 'weighted' for multi-class\n",
        "\n",
        "print(f\"Accuracy: {accuracy}\")\n",
        "print(\"Confusion Matrix:\")\n",
        "print(conf_matrix)\n",
        "print(f\"F1 Score: {f1}\")"
      ],
      "metadata": {
        "colab": {
          "base_uri": "https://localhost:8080/"
        },
        "id": "9s80f7nZRP48",
        "outputId": "371d88ff-f675-45fa-8c7b-2dc35e0ab95e"
      },
      "execution_count": 9,
      "outputs": [
        {
          "output_type": "stream",
          "name": "stdout",
          "text": [
            "Epoch 1/10\n",
            "2087/2087 [==============================] - 7s 3ms/step - loss: nan - accuracy: 0.6093 - val_loss: nan - val_accuracy: 0.6072\n",
            "Epoch 2/10\n",
            "2087/2087 [==============================] - 4s 2ms/step - loss: nan - accuracy: 0.6095 - val_loss: nan - val_accuracy: 0.6072\n",
            "Epoch 3/10\n",
            "2087/2087 [==============================] - 5s 2ms/step - loss: nan - accuracy: 0.6095 - val_loss: nan - val_accuracy: 0.6072\n",
            "Epoch 4/10\n",
            "2087/2087 [==============================] - 6s 3ms/step - loss: nan - accuracy: 0.6095 - val_loss: nan - val_accuracy: 0.6072\n",
            "Epoch 5/10\n",
            "2087/2087 [==============================] - 5s 2ms/step - loss: nan - accuracy: 0.6095 - val_loss: nan - val_accuracy: 0.6072\n",
            "Epoch 6/10\n",
            "2087/2087 [==============================] - 6s 3ms/step - loss: nan - accuracy: 0.6095 - val_loss: nan - val_accuracy: 0.6072\n",
            "Epoch 7/10\n",
            "2087/2087 [==============================] - 5s 2ms/step - loss: nan - accuracy: 0.6095 - val_loss: nan - val_accuracy: 0.6072\n",
            "Epoch 8/10\n",
            "2087/2087 [==============================] - 4s 2ms/step - loss: nan - accuracy: 0.6095 - val_loss: nan - val_accuracy: 0.6072\n",
            "Epoch 9/10\n",
            "2087/2087 [==============================] - 6s 3ms/step - loss: nan - accuracy: 0.6095 - val_loss: nan - val_accuracy: 0.6072\n",
            "Epoch 10/10\n",
            "2087/2087 [==============================] - 5s 2ms/step - loss: nan - accuracy: 0.6095 - val_loss: nan - val_accuracy: 0.6072\n",
            "653/653 [==============================] - 1s 2ms/step\n",
            "Accuracy: 0.6096123436676409\n",
            "Confusion Matrix:\n",
            "[[12722     0]\n",
            " [ 8147     0]]\n",
            "F1 Score: 0.46175989021700625\n"
          ]
        }
      ]
    }
  ]
}